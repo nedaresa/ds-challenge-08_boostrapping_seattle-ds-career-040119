{
 "cells": [
  {
   "cell_type": "markdown",
   "metadata": {},
   "source": [
    "data downloaded from kaggle:https://www.kaggle.com/residentmario/ramen-ratings/downloads/ramen-ratings.zip/1\n",
    "\n",
    "NJabbari; 08012019\n",
    "\n",
    "H0 = Review stars for ramen in Japan is the same as review stars for ramen in USA.\n",
    "\n",
    "H1= Review stars for ramen in Japan is significantly higher than the review stars for ramen in USA.\n",
    "\n",
    "alpha= 0.05"
   ]
  },
  {
   "cell_type": "code",
   "execution_count": 55,
   "metadata": {},
   "outputs": [],
   "source": [
    "import pandas as pd\n",
    "import numpy as np\n",
    "import matplotlib\n",
    "import matplotlib.pyplot as plt\n",
    "%matplotlib inline"
   ]
  },
  {
   "cell_type": "code",
   "execution_count": 56,
   "metadata": {},
   "outputs": [],
   "source": [
    "df=pd.read_csv('ramen-ratings.zip')"
   ]
  },
  {
   "cell_type": "code",
   "execution_count": 57,
   "metadata": {},
   "outputs": [
    {
     "data": {
      "text/plain": [
       "Japan    352\n",
       "USA      323\n",
       "Name: Country, dtype: int64"
      ]
     },
     "execution_count": 57,
     "metadata": {},
     "output_type": "execute_result"
    }
   ],
   "source": [
    "df['Country'].value_counts()[:2]  #get the top two countries with most ramen reviews"
   ]
  },
  {
   "cell_type": "code",
   "execution_count": 58,
   "metadata": {},
   "outputs": [],
   "source": [
    "df_japan = df.loc[df['Country']=='Japan']"
   ]
  },
  {
   "cell_type": "code",
   "execution_count": 59,
   "metadata": {},
   "outputs": [],
   "source": [
    "df_usa = df.loc[df['Country']=='USA']"
   ]
  },
  {
   "cell_type": "code",
   "execution_count": 60,
   "metadata": {},
   "outputs": [],
   "source": [
    "sample_japan = np.random.choice(df_japan['Stars'], replace = False, size=200)"
   ]
  },
  {
   "cell_type": "code",
   "execution_count": 61,
   "metadata": {},
   "outputs": [],
   "source": [
    "sample_japan=[float(i) for i in sample_japan]"
   ]
  },
  {
   "cell_type": "code",
   "execution_count": 62,
   "metadata": {},
   "outputs": [],
   "source": [
    "sample_usa = np.random.choice(df_usa['Stars'],replace = False, size=200)"
   ]
  },
  {
   "cell_type": "code",
   "execution_count": 80,
   "metadata": {},
   "outputs": [],
   "source": [
    "sample_usa=[float(i) for i in sample_usa]"
   ]
  },
  {
   "cell_type": "code",
   "execution_count": 82,
   "metadata": {},
   "outputs": [],
   "source": [
    "obs_meandifference = np.mean(sample_japan)-np.mean(sample_usa)  #0.528"
   ]
  },
  {
   "cell_type": "code",
   "execution_count": 83,
   "metadata": {},
   "outputs": [],
   "source": [
    "sample = sample_japan+sample_usa"
   ]
  },
  {
   "cell_type": "code",
   "execution_count": 85,
   "metadata": {},
   "outputs": [],
   "source": [
    "bootstrap_samples = []\n",
    "bootstrap_meandifferences = np.zeros(3000)\n",
    "\n",
    "for i in range(3000):\n",
    "    bootstrap_sample = np.random.choice(sample, size=400)\n",
    "    bootstrap_samples.append(bootstrap_sample)\n",
    "    bootstrap_meandifferences[i] = bootstrap_sample[:200].mean()-bootstrap_sample[200:].mean()"
   ]
  },
  {
   "cell_type": "code",
   "execution_count": 86,
   "metadata": {},
   "outputs": [
    {
     "data": {
      "text/plain": [
       "0.0"
      ]
     },
     "execution_count": 86,
     "metadata": {},
     "output_type": "execute_result"
    }
   ],
   "source": [
    "sum(bootstrap_meandifferences>obs_mean)/1000\n",
    "#0.0 < 0.05 therefore null hypothesis rejected"
   ]
  }
 ],
 "metadata": {
  "kernelspec": {
   "display_name": "Python 3",
   "language": "python",
   "name": "python3"
  },
  "language_info": {
   "codemirror_mode": {
    "name": "ipython",
    "version": 3
   },
   "file_extension": ".py",
   "mimetype": "text/x-python",
   "name": "python",
   "nbconvert_exporter": "python",
   "pygments_lexer": "ipython3",
   "version": "3.7.3"
  }
 },
 "nbformat": 4,
 "nbformat_minor": 2
}
