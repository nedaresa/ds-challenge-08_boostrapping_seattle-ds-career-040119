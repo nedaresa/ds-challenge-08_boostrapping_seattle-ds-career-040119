{
 "cells": [
  {
   "cell_type": "markdown",
   "metadata": {},
   "source": [
    "data downloaded from kaggle:https://www.kaggle.com/residentmario/ramen-ratings/downloads/ramen-ratings.zip/1\n",
    "\n",
    "NJabbari; 08012019\n",
    "\n",
    "H0 = Review stars for ramen in Japan is the same as review stars for ramen in USA\n",
    "H1= Review stars for ramen in Japan is significantly higher than the review stars for ramen in USA"
   ]
  },
  {
   "cell_type": "code",
   "execution_count": null,
   "metadata": {},
   "outputs": [],
   "source": [
    "import pandas as pd\n",
    "import numpy as np\n",
    "import matplotlib\n",
    "import matplotlib.pyplot as plt\n",
    "%matplotlib inline"
   ]
  },
  {
   "cell_type": "code",
   "execution_count": null,
   "metadata": {},
   "outputs": [],
   "source": [
    "df=pd.read_csv('ramen-ratings.zip')"
   ]
  },
  {
   "cell_type": "code",
   "execution_count": null,
   "metadata": {},
   "outputs": [],
   "source": [
    "df['Country'].value_counts()"
   ]
  },
  {
   "cell_type": "code",
   "execution_count": null,
   "metadata": {},
   "outputs": [],
   "source": [
    "df_japan = df.loc[df['Country']=='Japan']"
   ]
  },
  {
   "cell_type": "code",
   "execution_count": null,
   "metadata": {},
   "outputs": [],
   "source": [
    "df_japan.head()"
   ]
  },
  {
   "cell_type": "code",
   "execution_count": null,
   "metadata": {},
   "outputs": [],
   "source": [
    "df_usa = df.loc[df['Country']=='USA']"
   ]
  },
  {
   "cell_type": "code",
   "execution_count": null,
   "metadata": {},
   "outputs": [],
   "source": [
    "df_usa.head()"
   ]
  },
  {
   "cell_type": "code",
   "execution_count": null,
   "metadata": {},
   "outputs": [],
   "source": [
    "sample_japan = np.random.choice(df_japan['Stars'], size=1000)"
   ]
  },
  {
   "cell_type": "code",
   "execution_count": null,
   "metadata": {},
   "outputs": [],
   "source": [
    "# [type(i) for i in sample_japan]    #all string"
   ]
  },
  {
   "cell_type": "code",
   "execution_count": null,
   "metadata": {},
   "outputs": [],
   "source": [
    "sample_japan=[float(i) for i in sample_japan]"
   ]
  },
  {
   "cell_type": "code",
   "execution_count": null,
   "metadata": {},
   "outputs": [],
   "source": [
    "# [type(i) for i in sample_japan] #all string"
   ]
  },
  {
   "cell_type": "code",
   "execution_count": null,
   "metadata": {},
   "outputs": [],
   "source": [
    "sample_usa = np.random.choice(df_usa['Stars'], size=1000)"
   ]
  },
  {
   "cell_type": "code",
   "execution_count": null,
   "metadata": {},
   "outputs": [],
   "source": [
    "#[type(i) for i in sample_usa]    #all string"
   ]
  },
  {
   "cell_type": "code",
   "execution_count": null,
   "metadata": {},
   "outputs": [],
   "source": [
    "sample_usa=[float(i) for i in sample_usa]"
   ]
  },
  {
   "cell_type": "code",
   "execution_count": null,
   "metadata": {},
   "outputs": [],
   "source": [
    "#[type(i) for i in sample_usa] #all string"
   ]
  },
  {
   "cell_type": "code",
   "execution_count": null,
   "metadata": {},
   "outputs": [],
   "source": [
    "bootstrap_samples_japan = []\n",
    "bootstrap_sample_japan_means = np.zeros(1000)\n",
    "bootstrap_sample_japan_95pcts = np.zeros(1000)\n",
    "for i in range(1000):\n",
    "    bootstrap_sample_japan = np.random.choice(sample_japan, size=352)\n",
    "    bootstrap_samples_japan.append(bootstrap_sample_japan)\n",
    "    \n",
    "    bootstrap_sample_japan_means[i] = bootstrap_sample_japan.mean()    \n",
    "    bootstrap_sample_japan_95pcts[i] = np.percentile(a=bootstrap_sample_japan, q=95)"
   ]
  },
  {
   "cell_type": "code",
   "execution_count": null,
   "metadata": {},
   "outputs": [],
   "source": [
    "plt.hist(bootstrap_sample_japan_means);\n",
    "plt.hist(bootstrap_sample_usa_means);"
   ]
  },
  {
   "cell_type": "code",
   "execution_count": null,
   "metadata": {},
   "outputs": [],
   "source": [
    "bootstrap_samples_usa = []\n",
    "bootstrap_sample_usa_means = np.zeros(1000)\n",
    "bootstrap_sample_usa_95pcts = np.zeros(1000)\n",
    "for i in range(1000):\n",
    "    bootstrap_sample_usa = np.random.choice(sample_usa, size=323)\n",
    "    bootstrap_samples_usa.append(bootstrap_sample_usa)\n",
    "    \n",
    "    bootstrap_sample_usa_means[i] = bootstrap_sample_usa.mean()    \n",
    "    bootstrap_sample_usa_95pcts[i] = np.percentile(a=bootstrap_sample_usa, q=95)"
   ]
  },
  {
   "cell_type": "code",
   "execution_count": null,
   "metadata": {},
   "outputs": [],
   "source": [
    "(bootstrap_sample_japan_means.mean()-bootstrap_sample_usa_means.mean())/1000 \n",
    "#0.00052 < 0.05 therefore null hypothesis rejected"
   ]
  }
 ],
 "metadata": {
  "kernelspec": {
   "display_name": "Python 3",
   "language": "python",
   "name": "python3"
  },
  "language_info": {
   "codemirror_mode": {
    "name": "ipython",
    "version": 3
   },
   "file_extension": ".py",
   "mimetype": "text/x-python",
   "name": "python",
   "nbconvert_exporter": "python",
   "pygments_lexer": "ipython3",
   "version": "3.7.3"
  }
 },
 "nbformat": 4,
 "nbformat_minor": 2
}
