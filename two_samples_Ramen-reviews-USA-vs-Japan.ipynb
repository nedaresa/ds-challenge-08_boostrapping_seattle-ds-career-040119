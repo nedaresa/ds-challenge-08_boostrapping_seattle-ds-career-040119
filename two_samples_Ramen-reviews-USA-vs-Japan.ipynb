{
 "cells": [
  {
   "cell_type": "markdown",
   "metadata": {},
   "source": [
    "data downloaded from kaggle:https://www.kaggle.com/residentmario/ramen-ratings/downloads/ramen-ratings.zip/1\n",
    "\n",
    "NJabbari; 08012019\n",
    "\n",
    "H0 = Review stars for ramen in Japan is the same as review stars for ramen in USA.\n",
    "\n",
    "H1= Review stars for ramen in Japan is significantly higher than the review stars for ramen in USA.\n",
    "\n",
    "alpha= 0.05"
   ]
  },
  {
   "cell_type": "code",
   "execution_count": 110,
   "metadata": {},
   "outputs": [],
   "source": [
    "import pandas as pd\n",
    "import numpy as np\n",
    "import scipy.stats as stats\n",
    "import matplotlib\n",
    "import matplotlib.pyplot as plt\n",
    "%matplotlib inline"
   ]
  },
  {
   "cell_type": "code",
   "execution_count": 100,
   "metadata": {},
   "outputs": [],
   "source": [
    "df=pd.read_csv('ramen-ratings.zip')"
   ]
  },
  {
   "cell_type": "code",
   "execution_count": 101,
   "metadata": {},
   "outputs": [
    {
     "data": {
      "text/plain": [
       "Japan    352\n",
       "USA      323\n",
       "Name: Country, dtype: int64"
      ]
     },
     "execution_count": 101,
     "metadata": {},
     "output_type": "execute_result"
    }
   ],
   "source": [
    "df['Country'].value_counts()[:2]  #get the top two countries with most ramen reviews"
   ]
  },
  {
   "cell_type": "code",
   "execution_count": 118,
   "metadata": {},
   "outputs": [],
   "source": [
    "sample_japan = df.loc[df['Country']=='Japan']['Stars']"
   ]
  },
  {
   "cell_type": "code",
   "execution_count": 119,
   "metadata": {},
   "outputs": [],
   "source": [
    "sample_usa = df.loc[df['Country']=='USA']['Stars']"
   ]
  },
  {
   "cell_type": "code",
   "execution_count": 120,
   "metadata": {},
   "outputs": [],
   "source": [
    "sample_japan=[float(i) for i in sample_japan]"
   ]
  },
  {
   "cell_type": "code",
   "execution_count": 121,
   "metadata": {},
   "outputs": [],
   "source": [
    "sample_usa=[float(i) for i in sample_usa]"
   ]
  },
  {
   "cell_type": "code",
   "execution_count": 122,
   "metadata": {},
   "outputs": [],
   "source": [
    "sample = sample_japan+sample_usa"
   ]
  },
  {
   "cell_type": "code",
   "execution_count": 142,
   "metadata": {},
   "outputs": [],
   "source": [
    "SIZE = 10_000\n",
    "bootstrap_samples_japan = []\n",
    "bootstrap_sample_japan_means = np.zeros(SIZE)\n",
    "\n",
    "for i in range(SIZE):\n",
    "    bootstrap_sample_japan = np.random.choice(sample_japan, size=352)\n",
    "    bootstrap_samples_japan.append(bootstrap_sample_japan)\n",
    "    bootstrap_sample_japan_means[i] = bootstrap_sample_japan.mean()"
   ]
  },
  {
   "cell_type": "code",
   "execution_count": 143,
   "metadata": {},
   "outputs": [],
   "source": [
    "bootstrap_samples_usa = []\n",
    "bootstrap_sample_usa_means = np.zeros(SIZE)\n",
    "\n",
    "for i in range(SIZE):\n",
    "    bootstrap_sample_usa = np.random.choice(sample_usa, size=323)\n",
    "    bootstrap_samples_usa.append(bootstrap_sample_usa)\n",
    "    bootstrap_sample_usa_means[i] = bootstrap_sample_usa.mean()"
   ]
  },
  {
   "cell_type": "code",
   "execution_count": 125,
   "metadata": {},
   "outputs": [
    {
     "name": "stdout",
     "output_type": "stream",
     "text": [
      "0.04863976843471782\n",
      "0.05816026335676154\n",
      "3.9812636576704543\n",
      "3.4568679179566564\n"
     ]
    }
   ],
   "source": [
    "print(np.std(bootstrap_sample_japan_means))\n",
    "print(np.std(bootstrap_sample_usa_means))\n",
    "print(bootstrap_sample_japan_means.mean())\n",
    "print(bootstrap_sample_usa_means.mean())"
   ]
  },
  {
   "cell_type": "code",
   "execution_count": 146,
   "metadata": {},
   "outputs": [
    {
     "name": "stdout",
     "output_type": "stream",
     "text": [
      "3.8835919744318184\n",
      "4.075071022727273\n"
     ]
    }
   ],
   "source": [
    "print(np.percentile(a=bootstrap_sample_japan_means, q=2.5))\n",
    "print(np.percentile(a=bootstrap_sample_japan_means, q=97.5))"
   ]
  },
  {
   "cell_type": "code",
   "execution_count": 147,
   "metadata": {},
   "outputs": [
    {
     "name": "stdout",
     "output_type": "stream",
     "text": [
      "3.3393962848297214\n",
      "3.571981424148607\n"
     ]
    }
   ],
   "source": [
    "print(np.percentile(a=bootstrap_sample_usa_means, q=2.5))\n",
    "print(np.percentile(a=bootstrap_sample_usa_means, q=97.5))"
   ]
  },
  {
   "cell_type": "code",
   "execution_count": 126,
   "metadata": {},
   "outputs": [],
   "source": [
    "mu = bootstrap_sample_usa_means.mean()\n",
    "sigma = bootstrap_sample_usa_means.std()\n",
    "usadistribution = stats.norm(loc = mu , scale = sigma)\n",
    "japanese_mu_est = bootstrap_sample_japan_means.mean()"
   ]
  },
  {
   "cell_type": "code",
   "execution_count": 127,
   "metadata": {},
   "outputs": [
    {
     "data": {
      "text/plain": [
       "<matplotlib.lines.Line2D at 0x1a1f622518>"
      ]
     },
     "execution_count": 127,
     "metadata": {},
     "output_type": "execute_result"
    },
    {
     "data": {
      "image/png": "[encoded data removed]",
      "text/plain": [
       "<Figure size 432x288 with 1 Axes>"
      ]
     },
     "metadata": {
      "needs_background": "light"
     },
     "output_type": "display_data"
    }
   ],
   "source": [
    "xx = np.linspace(3,4.5,256)\n",
    "fig, ax= plt.subplots()\n",
    "ax.hist(bootstrap_sample_japan_means,density = True) \n",
    "ax.hist(bootstrap_sample_usa_means,density = True);\n",
    "ax.plot(xx,usadistribution.pdf(xx), color = 'k')\n",
    "ax.axvline(bootstrap_sample_japan_means.mean(), color = 'k')"
   ]
  },
  {
   "cell_type": "code",
   "execution_count": 115,
   "metadata": {},
   "outputs": [
    {
     "data": {
      "text/plain": [
       "2.797056097246444e-19"
      ]
     },
     "execution_count": 115,
     "metadata": {},
     "output_type": "execute_result"
    }
   ],
   "source": [
    "deltamean = abs(usadistribution.mean() - japanese_mu_est)\n",
    "pvalue = usadistribution.sf(mu+deltamean)+usadistribution.cdf(mu-deltamean)\n",
    "pvalue   # p<0.05 , therefore H0 is rejected"
   ]
  },
  {
   "cell_type": "code",
   "execution_count": 116,
   "metadata": {},
   "outputs": [
    {
     "data": {
      "text/plain": [
       "0.0"
      ]
     },
     "execution_count": 116,
     "metadata": {},
     "output_type": "execute_result"
    }
   ],
   "source": [
    "pvalue = sum(bootstrap_sample_japan_means < bootstrap_sample_usa_means.mean())/SIZE\n",
    "pvalue # p<0.05 , therefore H0 is rejected"
   ]
  }
 ],
 "metadata": {
  "kernelspec": {
   "display_name": "Python 3",
   "language": "python",
   "name": "python3"
  },
  "language_info": {
   "codemirror_mode": {
    "name": "ipython",
    "version": 3
   },
   "file_extension": ".py",
   "mimetype": "text/x-python",
   "name": "python",
   "nbconvert_exporter": "python",
   "pygments_lexer": "ipython3",
   "version": "3.7.3"
  }
 },
 "nbformat": 4,
 "nbformat_minor": 2
}
